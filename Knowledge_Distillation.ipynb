{
  "nbformat": 4,
  "nbformat_minor": 0,
  "metadata": {
    "colab": {
      "provenance": [],
      "gpuType": "T4",
      "authorship_tag": "ABX9TyNZDbIYJ85JuY32HzdaKTHM",
      "include_colab_link": true
    },
    "kernelspec": {
      "name": "python3",
      "display_name": "Python 3"
    },
    "language_info": {
      "name": "python"
    },
    "accelerator": "GPU"
  },
  "cells": [
    {
      "cell_type": "markdown",
      "metadata": {
        "id": "view-in-github",
        "colab_type": "text"
      },
      "source": [
        "<a href=\"https://colab.research.google.com/github/Alafiade/Implementing-Knowledge-Distillation/blob/main/Knowledge_Distillation.ipynb\" target=\"_parent\"><img src=\"https://colab.research.google.com/assets/colab-badge.svg\" alt=\"Open In Colab\"/></a>"
      ]
    },
    {
      "cell_type": "markdown",
      "source": [
        "IMPORTING DEPENDENCIES"
      ],
      "metadata": {
        "id": "n4G-k6g0myGJ"
      }
    },
    {
      "cell_type": "code",
      "execution_count": null,
      "metadata": {
        "id": "r6NK_-SAMvzP"
      },
      "outputs": [],
      "source": [
        "import torch\n",
        "import torch.nn as nn\n",
        "import torch.optim as optim\n",
        "import torchvision.transforms as transforms\n",
        "import torchvision.datasets as datasets\n",
        "\n",
        "\n",
        "\n"
      ]
    },
    {
      "cell_type": "code",
      "source": [
        "import torch\n",
        "device = torch.accelerator.current_accelerator().type if torch.accelerator.is_available() else 'cpu'\n",
        "print (f'Using {device}device')"
      ],
      "metadata": {
        "colab": {
          "base_uri": "https://localhost:8080/"
        },
        "id": "YOKFcnkZOUK0",
        "outputId": "fe0859fe-9fc6-48ec-ca71-9c667c6a74e4"
      },
      "execution_count": null,
      "outputs": [
        {
          "output_type": "stream",
          "name": "stdout",
          "text": [
            "Using cudadevice\n"
          ]
        }
      ]
    },
    {
      "cell_type": "markdown",
      "source": [
        "DATA LOADING AND PREPROCESSING"
      ],
      "metadata": {
        "id": "wlYMD9ram-v0"
      }
    },
    {
      "cell_type": "code",
      "source": [
        "transforms_cifar = transforms.Compose([\n",
        "    transforms.ToTensor(),\n",
        "    transforms.Normalize(mean=[0.485,0.456,0.406], std=[0.299,0.224,0.225])\n",
        "])\n",
        "\n",
        "train_dataset = datasets.CIFAR10(root='./data', train=True, download=True, transform=transforms_cifar)\n",
        "test_dataset = datasets.CIFAR10(root='./data', train=False, download=True, transform=transforms_cifar)"
      ],
      "metadata": {
        "colab": {
          "base_uri": "https://localhost:8080/"
        },
        "id": "jNX8ZmDWO1uo",
        "outputId": "22c35efb-56fa-4540-86fc-0cf3364135be"
      },
      "execution_count": null,
      "outputs": [
        {
          "output_type": "stream",
          "name": "stderr",
          "text": [
            "100%|██████████| 170M/170M [00:06<00:00, 26.3MB/s]\n"
          ]
        }
      ]
    },
    {
      "cell_type": "markdown",
      "source": [
        "### SETTING DATA LOADERS"
      ],
      "metadata": {
        "id": "Q9LcJUmTnJhl"
      }
    },
    {
      "cell_type": "code",
      "source": [
        "train_loader = torch.utils.data.DataLoader(train_dataset, batch_size=128, shuffle=True, num_workers=2)\n",
        "test_loader = torch.utils.data.DataLoader(test_dataset, batch_size=128, shuffle=False, num_workers=2)"
      ],
      "metadata": {
        "id": "JvC3LTwXP2El"
      },
      "execution_count": null,
      "outputs": []
    },
    {
      "cell_type": "markdown",
      "source": [
        "DEFINING MODEL"
      ],
      "metadata": {
        "id": "C7JiTbPbnWvQ"
      }
    },
    {
      "cell_type": "code",
      "source": [
        "class DeepNN(nn.Module):\n",
        "  def __init__(self, num_classes=10):\n",
        "    super(DeepNN, self). __init__()\n",
        "    self.features = nn.Sequential(\n",
        "        nn.Conv2d(3,128,kernel_size=3, padding=1),\n",
        "        nn.ReLU(),\n",
        "        nn.Conv2d(128,64,kernel_size=3, padding=1),\n",
        "        nn.ReLU(),\n",
        "        nn.MaxPool2d(kernel_size=2, stride=2),\n",
        "        nn.Conv2d(64,32,kernel_size=3, padding=1),\n",
        "        nn.ReLU(),\n",
        "        nn.MaxPool2d(kernel_size=2, stride=2),\n",
        "    )\n",
        "    self.classifier = nn.Sequential(\n",
        "        nn.Linear(2048,512),\n",
        "        nn.ReLU(),\n",
        "        nn.Dropout(0.1),\n",
        "        nn.Linear(512,num_classes)\n",
        "    )\n",
        "  def forward(self,x):\n",
        "    x = self.features(x)\n",
        "    x = torch.flatten(x,1)\n",
        "    x = self.classifier(x)\n",
        "    return x\n",
        "\n",
        "\n",
        "#Lightweight neural network class to be used as student:\n",
        "class LightNN(nn.Module):\n",
        "  def __init__(self,num_classes=10):\n",
        "    super(LightNN, self). __init__()\n",
        "    self.features = nn.Sequential(\n",
        "        nn.Conv2d(3,16, kernel_size=3, padding=1),\n",
        "        nn.ReLU(),\n",
        "        nn.MaxPool2d(kernel_size=2, stride=2),\n",
        "        nn.Conv2d(16,16, kernel_size=3, padding=1),\n",
        "        nn.ReLU(),\n",
        "        nn.MaxPool2d(kernel_size=2, stride=2),\n",
        "        )\n",
        "    self.classifier = nn.Sequential(\n",
        "        nn.Linear(1024,256),\n",
        "        nn.ReLU(),\n",
        "        nn.Dropout(0.1),\n",
        "        nn.Linear(256,num_classes)\n",
        "\n",
        "\n",
        "    )\n",
        "\n",
        "  def forward(self,x):\n",
        "    x = self.features(x)\n",
        "    x = torch.flatten(x,1)\n",
        "    x = self.classifier(x)\n",
        "    return x\n"
      ],
      "metadata": {
        "id": "Pz-TfegbQ-FR"
      },
      "execution_count": null,
      "outputs": []
    },
    {
      "cell_type": "code",
      "source": [
        "def train(model, train_loader, epochs, learning_rate, device):\n",
        "    criterion = nn.CrossEntropyLoss()\n",
        "    optimizer = optim.Adam(model.parameters(), lr=learning_rate)\n",
        "\n",
        "    model.train()\n",
        "\n",
        "    for epoch in range(epochs):\n",
        "        running_loss = 0.0\n",
        "        for inputs, labels in train_loader:\n",
        "\n",
        "            inputs, labels = inputs.to(device), labels.to(device)\n",
        "\n",
        "            optimizer.zero_grad()\n",
        "            outputs = model(inputs)\n",
        "\n",
        "            loss = criterion(outputs, labels)\n",
        "            loss.backward()\n",
        "            optimizer.step()\n",
        "\n",
        "            running_loss += loss.item()\n",
        "\n",
        "        print(f\"Epoch {epoch+1}/{epochs}, Loss: {running_loss / len(train_loader)}\")\n",
        "\n",
        "def test(model, test_loader, device):\n",
        "    model.to(device)\n",
        "    model.eval()\n",
        "\n",
        "    correct = 0\n",
        "    total = 0\n",
        "\n",
        "    with torch.no_grad():\n",
        "        for inputs, labels in test_loader:\n",
        "            inputs, labels = inputs.to(device), labels.to(device)\n",
        "\n",
        "            outputs = model(inputs)\n",
        "            _, predicted = torch.max(outputs.data, 1)\n",
        "\n",
        "            total += labels.size(0)\n",
        "            correct += (predicted == labels).sum().item()\n",
        "\n",
        "    accuracy = 100 * correct / total\n",
        "    print(f\"Test Accuracy: {accuracy:.2f}%\")\n",
        "    return accuracy"
      ],
      "metadata": {
        "id": "xhV6q0XDYzss"
      },
      "execution_count": null,
      "outputs": []
    },
    {
      "cell_type": "markdown",
      "source": [
        "CROSS ENTROPY RUNS"
      ],
      "metadata": {
        "id": "ziylJOP2ZBZq"
      }
    },
    {
      "cell_type": "code",
      "source": [
        "torch.manual_seed(42)\n",
        "nn_deep = DeepNN(num_classes=10).to(device)\n",
        "train(nn_deep, train_loader, epochs=10, learning_rate=0.001, device=device)\n",
        "test_accuracy_deep = test(nn_deep, test_loader, device)\n",
        "\n",
        "torch.manual_seed(42)\n",
        "nn_light = LightNN(num_classes=10).to(device)"
      ],
      "metadata": {
        "colab": {
          "base_uri": "https://localhost:8080/"
        },
        "id": "jE_2297zY_If",
        "outputId": "15641949-b625-468c-bba9-338c13832a4c"
      },
      "execution_count": null,
      "outputs": [
        {
          "output_type": "stream",
          "name": "stdout",
          "text": [
            "Epoch 1/10, Loss: 1.3274331938885058\n",
            "Epoch 2/10, Loss: 0.8768705486336632\n",
            "Epoch 3/10, Loss: 0.6902951818445454\n",
            "Epoch 4/10, Loss: 0.5474821895437167\n",
            "Epoch 5/10, Loss: 0.4261758156749598\n",
            "Epoch 6/10, Loss: 0.31982939071057703\n",
            "Epoch 7/10, Loss: 0.2332105693381156\n",
            "Epoch 8/10, Loss: 0.17445363737928593\n",
            "Epoch 9/10, Loss: 0.13516285310468407\n",
            "Epoch 10/10, Loss: 0.11944542772820234\n",
            "Test Accuracy: 73.88%\n"
          ]
        }
      ]
    },
    {
      "cell_type": "code",
      "source": [
        "torch.manual_seed(42)\n",
        "new_nn_light = LightNN(num_classes=10).to(device)"
      ],
      "metadata": {
        "id": "dtlhHHpmd1jC"
      },
      "execution_count": null,
      "outputs": []
    },
    {
      "cell_type": "markdown",
      "source": [
        "Comparing the first layer of the initial lightweight model and the new lightweight model"
      ],
      "metadata": {
        "id": "-yIyP8OpeF91"
      }
    },
    {
      "source": [
        "print('Norm of 1st layer of nn_light:', torch.norm(nn_light.features[0].weight).item()) # Corrected to nn_light\n",
        "print('Norm of 1st layer of new_nn_light:', torch.norm(new_nn_light.features[0].weight).item()) # Corrected to new_nn_light"
      ],
      "cell_type": "code",
      "metadata": {
        "colab": {
          "base_uri": "https://localhost:8080/"
        },
        "id": "AadCjwcHfEUX",
        "outputId": "d0e56718-ff62-439a-c90e-514125139b4a"
      },
      "execution_count": null,
      "outputs": [
        {
          "output_type": "stream",
          "name": "stdout",
          "text": [
            "Norm of 1st layer of nn_light: 2.327361822128296\n",
            "Norm of 1st layer of new_nn_light: 2.327361822128296\n"
          ]
        }
      ]
    },
    {
      "cell_type": "code",
      "source": [
        "total_params_deep = '{:,}'.format(sum(p.numel() for p in nn_deep.parameters()))\n",
        "total_params_light = '{:,}'.format(sum(p.numel()for p in nn_light.parameters()))\n",
        "print(f'Deep NN parameters: {total_params_deep}')\n",
        "print(f' LightNN parameters: {total_params_light}')"
      ],
      "metadata": {
        "colab": {
          "base_uri": "https://localhost:8080/"
        },
        "id": "5kUmhbXKflkN",
        "outputId": "0535306d-79b6-426a-f304-524b57053ac6"
      },
      "execution_count": null,
      "outputs": [
        {
          "output_type": "stream",
          "name": "stdout",
          "text": [
            "Deep NN parameters: 1,150,058\n",
            " LightNN parameters: 267,738\n"
          ]
        }
      ]
    },
    {
      "cell_type": "code",
      "source": [
        "train(nn_light, train_loader, epochs=10, learning_rate=0.001, device=device)\n",
        "test_accuracy_light_ce = test(nn_light,test_loader, device)"
      ],
      "metadata": {
        "colab": {
          "base_uri": "https://localhost:8080/"
        },
        "id": "u-OfseGngrJ3",
        "outputId": "90d3e7af-a9e2-4561-ea04-a68b9f920c92"
      },
      "execution_count": null,
      "outputs": [
        {
          "output_type": "stream",
          "name": "stdout",
          "text": [
            "Epoch 1/10, Loss: 1.4760891415578934\n",
            "Epoch 2/10, Loss: 1.1697084418952923\n",
            "Epoch 3/10, Loss: 1.0418787882151201\n",
            "Epoch 4/10, Loss: 0.9423012375221838\n",
            "Epoch 5/10, Loss: 0.8657975026103847\n",
            "Epoch 6/10, Loss: 0.8009030367712231\n",
            "Epoch 7/10, Loss: 0.7372408323275769\n",
            "Epoch 8/10, Loss: 0.6811386679139588\n",
            "Epoch 9/10, Loss: 0.6305688669919358\n",
            "Epoch 10/10, Loss: 0.5824526600977954\n",
            "Test Accuracy: 70.66%\n"
          ]
        }
      ]
    },
    {
      "cell_type": "code",
      "source": [
        "print(f'Test accuracy of DeepNN: {test_accuracy_deep:.2f}%')\n",
        "print(f'Test accuracy of LightNN: {test_accuracy_light_ce:.2f}%')"
      ],
      "metadata": {
        "colab": {
          "base_uri": "https://localhost:8080/"
        },
        "id": "ZsIXSEGChpaR",
        "outputId": "4fe3377e-e53d-4387-8727-03f8d62a54bc"
      },
      "execution_count": null,
      "outputs": [
        {
          "output_type": "stream",
          "name": "stdout",
          "text": [
            "Test accuracy of DeepNN: 73.88%\n",
            "Test accuracy of LightNN: 70.66%\n"
          ]
        }
      ]
    },
    {
      "cell_type": "markdown",
      "source": [
        "APPLYING KNOWLEDGE DISTILLATIION"
      ],
      "metadata": {
        "id": "x5vzjzaMnl9b"
      }
    },
    {
      "cell_type": "code",
      "source": [
        "def train_knowledge_distillation( teacher, student, train_loader, epochs, learning_rate, T, soft_target_loss_weight, ce_loss_weight, device):\n",
        "  # Initializing the cross-entropy loss for hard labels\n",
        "  ce_loss = nn.CrossEntropyLoss()\n",
        "  # Setting up Adam optimizer for the student model\n",
        "  optimizer = optim.Adam(student.parameters(), lr= learning_rate)\n",
        "\n",
        "  teacher.eval() # Setting teacher model to evaluation\n",
        "  student.train()\n",
        "  # Main training loop\n",
        "  for epoch in range(epochs):\n",
        "    running_loss = 0.0\n",
        "    for inputs, labels in train_loader:\n",
        "        inputs, labels = inputs.to(device), labels.to(device)\n",
        "\n",
        "        optimizer.zero_grad()\n",
        "        # Extract teacher logits without gradient computation\n",
        "        with torch.no_grad():\n",
        "          teacher_logits = teacher(inputs)\n",
        "        # Generate student logits\n",
        "        student_logits = student(inputs)\n",
        "        # Apply temperature scaling to soften logits\n",
        "        soft_targets = nn.functional.softmax(teacher_logits/ T,dim=-1)\n",
        "        soft_prob = nn.functional.log_softmax(student_logits/ T, dim=-1)\n",
        "\n",
        "        soft_targets_loss = torch.sum(soft_targets * (soft_targets.log()-soft_prob)) / soft_prob.size()[0]* (T**2)\n",
        "\n",
        "        label_loss = ce_loss(student_logits, labels)\n",
        "\n",
        "        loss = soft_target_loss_weight * soft_targets_loss + ce_loss_weight *label_loss\n",
        "\n",
        "        loss.backward()\n",
        "        optimizer.step()\n",
        "\n",
        "        running_loss += loss.item()\n",
        "    print(f'Epoch {epoch+1}/{epochs},Loss: {running_loss/ len(train_loader)}')\n",
        "train_knowledge_distillation(teacher=nn_deep, student=new_nn_light, train_loader=train_loader, epochs=10, learning_rate=0.001, T=4, soft_target_loss_weight=0.25, ce_loss_weight=0.75, device=device)\n",
        "test_accuracy_light_ce_and_kd = test(new_nn_light, test_loader, device)\n",
        "\n",
        "print(f\"Teacher accuracy: {test_accuracy_deep:.2f}%\")\n",
        "print(f\"Student accuracy without teacher: {test_accuracy_light_ce:.2f}%\")\n",
        "print(f\"Student accuracy with CE + KD: {test_accuracy_light_ce_and_kd:.2f}%\")\n"
      ],
      "metadata": {
        "colab": {
          "base_uri": "https://localhost:8080/"
        },
        "id": "uahZEAEGztGE",
        "outputId": "ea39a426-d08e-4b0c-9cc7-fd0dcbd9d0af"
      },
      "execution_count": null,
      "outputs": [
        {
          "output_type": "stream",
          "name": "stdout",
          "text": [
            "Epoch 1/10,Loss: 1.6343824311595438\n",
            "Epoch 2/10,Loss: 1.5003332262453826\n",
            "Epoch 3/10,Loss: 1.4221786013649553\n",
            "Epoch 4/10,Loss: 1.3413194050569364\n",
            "Epoch 5/10,Loss: 1.2725227819684217\n",
            "Epoch 6/10,Loss: 1.216282490116861\n",
            "Epoch 7/10,Loss: 1.1557223115430768\n",
            "Epoch 8/10,Loss: 1.1037090134132854\n",
            "Epoch 9/10,Loss: 1.0659202149761913\n",
            "Epoch 10/10,Loss: 1.022444518630767\n",
            "Test Accuracy: 71.86%\n",
            "Teacher accuracy: 73.88%\n",
            "Student accuracy without teacher: 70.66%\n",
            "Student accuracy with CE + KD: 71.86%\n"
          ]
        }
      ]
    }
  ]
}